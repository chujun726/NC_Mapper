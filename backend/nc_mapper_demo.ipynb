{
 "cells": [
  {
   "cell_type": "code",
   "execution_count": 3,
   "metadata": {},
   "outputs": [
    {
     "name": "stdout",
     "output_type": "stream",
     "text": [
      "['latitude', 'level', 'time', 'longitude']\n",
      "['2m_temperature', 'geopotential']\n",
      "[]\n",
      "[1000, 900, 800, 500, 300]\n"
     ]
    }
   ],
   "source": [
    "import sys\n",
    "sys.path.append('./lib')\n",
    "\n",
    "from ncmapper import NetCDFDataset\n",
    "from ncmapper import analyze_nc\n",
    "\n",
    "# [前端]使用者首先先上傳檔案到後端，假設上傳至後端後，檔案路徑位在後端伺服器的\"data/sample.nc\"\n",
    "file_path = \"data/sample.nc\"\n",
    "\n",
    "# [後端]分析該檔案的所有軸名\n",
    "coor_name_list = analyze_nc.coor_name_list_of_nc(file_path)\n",
    "\n",
    "# [後端]將軸名回傳給前端\n",
    "print(coor_name_list)\n",
    "\n",
    "# [前端]使用者選擇要當作longitude, latitude, height, time的軸名\n",
    "longitude_name = \"longitude\"\n",
    "latitude_name = \"latitude\"\n",
    "height_name = \"level\" # 可以是None\n",
    "time_name = \"time\" # 可以是None\n",
    "\n",
    "# [後端]使用者選擇的軸名，將其作為NetCDFDataset的參數\n",
    "ncdataset = NetCDFDataset(file_path, x_name=longitude_name, y_name=latitude_name, z_name=height_name, time_name=time_name)\n",
    "variable_list = ncdataset.variable_list\n",
    "\n",
    "# [後端]回傳變數列表給前端\n",
    "print(variable_list)\n",
    "\n",
    "# [前端]使用者選擇要使用的第一個變數（例如shading）\n",
    "variable_name = \"2m_temperature\"\n",
    "\n",
    "# [後端]根據使用者選擇的變數，判斷該變數的高度列表，並回傳給前端\n",
    "height_list = ncdataset.show_z_list_of_specific_variable(variable_name)\n",
    "\n",
    "# [前端]使用者提供選單給使用者選擇第一個變數的高度\n",
    "print(height_list)\n",
    "\n",
    "# [前端]使用者選擇要使用的變數（例如contour）\n",
    "variable_name = \"geopotential\"\n",
    "\n",
    "# [後端]根據使用者選擇的變數，判斷該變數的高度列表，並回傳給前端\n",
    "height_list = ncdataset.show_z_list_of_specific_variable(variable_name)\n",
    "\n",
    "# [前端]使用者提供選單給使用者選擇第二個變數的高度\n",
    "print(height_list)"
   ]
  },
  {
   "cell_type": "code",
   "execution_count": null,
   "metadata": {},
   "outputs": [],
   "source": [
    "# 如果前端的選擇是：\n",
    "# 軸名\n",
    "longitude_name = \"longitude\"\n",
    "latitude_name = \"latitude\"\n",
    "height_name = \"level\"\n",
    "time_name = \"time\"\n",
    "\n",
    "# 建立NetCDFDataset\n",
    "ncdataset = NetCDFDataset(file_path, \n",
    "                          x_name=longitude_name, \n",
    "                          y_name=latitude_name, \n",
    "                          z_name=height_name, \n",
    "                          time_name=time_name)\n",
    "\n",
    "# contour layer\n",
    "contour_variable_name = \"geopotential\"\n",
    "contour_height = 300\n",
    "\n",
    "# shading layer\n",
    "shading_variable_name = \"2m_temperature\"\n",
    "shading_height = None # 此變數沒有高度座標，因為一率都是2m高的氣溫\n",
    "\n",
    "# [後端]根據前端的選擇，將該變數組合在所有時間點的圖層都轉為geotiff檔案\n",
    "time_list = ncdataset.time_list\n",
    "for time in time_list:\n",
    "    ncdataset.select_to_geotiff(\n",
    "        save_at=f\"geotiff/{contour_variable_name}_{contour_height}_time_{time}.tif\",\n",
    "        variable=contour_variable_name,\n",
    "        time=time,\n",
    "        z=contour_height,\n",
    "    )\n",
    "\n",
    "    ncdataset.select_to_geotiff(\n",
    "        save_at=f\"geotiff/{shading_variable_name}_time_{time}.tif\",\n",
    "        variable=shading_variable_name,\n",
    "        time=time,\n",
    "        z=shading_height,\n",
    "    )\n",
    "\n",
    "    "
   ]
  },
  {
   "cell_type": "code",
   "execution_count": null,
   "metadata": {},
   "outputs": [],
   "source": []
  }
 ],
 "metadata": {
  "kernelspec": {
   "display_name": "ncmapper",
   "language": "python",
   "name": "python3"
  },
  "language_info": {
   "codemirror_mode": {
    "name": "ipython",
    "version": 3
   },
   "file_extension": ".py",
   "mimetype": "text/x-python",
   "name": "python",
   "nbconvert_exporter": "python",
   "pygments_lexer": "ipython3",
   "version": "3.12.7"
  }
 },
 "nbformat": 4,
 "nbformat_minor": 2
}
